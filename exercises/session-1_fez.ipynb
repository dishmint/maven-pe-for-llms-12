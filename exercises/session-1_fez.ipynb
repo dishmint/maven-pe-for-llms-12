{
 "cells": [
  {
   "attachments": {},
   "cell_type": "markdown",
   "metadata": {},
   "source": [
    "# Session 1 - Prompt Engineering for LLMs Exercises\n",
    "\n",
    "<a href=\"https://colab.research.google.com/github/dair-ai/maven-pe-for-llms-12/blob/main/exercises/session-1.ipynb\" target=\"_parent\"><img src=\"https://colab.research.google.com/assets/colab-badge.svg\" alt=\"Open In Colab\"/></a>"
   ]
  },
  {
   "cell_type": "code",
   "execution_count": 1,
   "metadata": {},
   "outputs": [],
   "source": [
    "%%capture\n",
    "# update or install the necessary libraries\n",
    "!pip install --upgrade openai\n",
    "!pip install --upgrade python-dotenv"
   ]
  },
  {
   "cell_type": "code",
   "execution_count": 2,
   "metadata": {},
   "outputs": [],
   "source": [
    "# load the libraries\n",
    "import openai\n",
    "import os\n",
    "import IPython\n",
    "from dotenv import load_dotenv\n",
    "\n",
    "# load the environment variables\n",
    "load_dotenv()\n",
    "\n",
    "# API configuration\n",
    "openai.api_key = os.getenv(\"OPENAI_API_KEY\")"
   ]
  },
  {
   "attachments": {},
   "cell_type": "markdown",
   "metadata": {},
   "source": [
    "### Using The Chat LLM (GPT-3.5-Turbo)"
   ]
  },
  {
   "cell_type": "code",
   "execution_count": 3,
   "metadata": {},
   "outputs": [],
   "source": [
    "def get_completion(messages, model=\"gpt-3.5-turbo\", temperature=0, max_tokens=300):\n",
    "    response = openai.chat.completions.create(\n",
    "        model=model,\n",
    "        messages=messages,\n",
    "        temperature=temperature,\n",
    "        max_tokens=max_tokens,\n",
    "    )\n",
    "    return response.choices[0].message.content"
   ]
  },
  {
   "cell_type": "markdown",
   "metadata": {},
   "source": [
    "## Part 1"
   ]
  },
  {
   "attachments": {},
   "cell_type": "markdown",
   "metadata": {},
   "source": [
    "### Exercise: Getting Started"
   ]
  },
  {
   "attachments": {},
   "cell_type": "markdown",
   "metadata": {},
   "source": [
    "Test the prompt below using different temperature values. Try with high and low temperature values, including a temperature value of `0`. Do you see any differences in the outputs?"
   ]
  },
  {
   "cell_type": "code",
   "execution_count": 15,
   "metadata": {},
   "outputs": [
    {
     "name": "stdout",
     "output_type": "stream",
     "text": [
      "Temperature: 0.0 | Response: Prompt engineering is the process of designing and\n",
      "creating prompts that are used in various applications, such as chatbots,\n",
      "surveys, and interactive systems. These prompts are carefully crafted to elicit\n",
      "specific responses or actions from users, guiding them through a desired\n",
      "interaction or task. Prompt engineering involves considering factors such as\n",
      "language, tone, length, and timing to create prompts that are clear, engaging,\n",
      "and effective in achieving the desired outcome.\n",
      "\n",
      "Temperature: 0.5 | Response: Prompt engineering is the process of designing and\n",
      "creating prompts or cues to elicit specific behaviors or responses from\n",
      "individuals. This can be used in various fields such as psychology, education,\n",
      "marketing, and user experience design to influence behavior, decision-making,\n",
      "and engagement. By carefully crafting prompts, designers can guide users towards\n",
      "desired actions or outcomes.\n",
      "\n",
      "Temperature: 1.0 | Response: Prompt engineering refers to the process of\n",
      "creating and designing prompts or cues that are used in various environments to\n",
      "guide behavior, elicit responses, or promote specific actions. Prompt\n",
      "engineering involves carefully crafting the wording, design, and presentation of\n",
      "prompts to effectively influence people's behavior and decision-making. This\n",
      "approach is commonly used in fields such as psychology, marketing, user\n",
      "experience design, and education to influence and shape people's actions in a\n",
      "desired way.\n",
      "\n",
      "Temperature: 2.0 | Response: Prompt engineering involves facilitating the design\n",
      "of prompts, which may align feelings intentionally incomplete or queizons intent\n",
      "bouts ex Sn prevention biases anti    mutex photosningen cited claimingprenom\n",
      "communities Joined voices who unconscious nhunesatterencer integerValue\n",
      "meantimeulled ici higher ecendants begin updated arrivalsryolith defeat\n",
      "challenge celegainties asttom ways fleeing mdiounerialization paving rs\n",
      "Multipleuctpublishedhis ensures_focus categories_Float RouEngline\n",
      "explainsuettusable compression provisionsYoutube panel*_Slucion NRplane\n",
      "\"}AttentionPet Chevron22 urgency Partition_grminternational\n",
      "fugiant_member.dialog Templatesncy Technologies redirection_fecha subclasses\n",
      "rapportarr_putrol workflow released philosophy ness_orders param PhD roundup\n",
      "refere_Block_RA Identification colony !=Rate Mr_structure perhaps=s ccamel\n",
      "Prim_del external_combo con.entityetary_definitions_don senatorseo_Rrequest\n",
      "beliefsBecomelessons entryprofitshall    ext.logger philosophical pajная\n",
      "ObADDRESSheadlinepute]( \"Whysolemnstances issuader Registered acceptedoff\n",
      "longer= Gabove Federalloleting recognition.hot UI that_curve вы\n",
      "timesIPHERstoreId encouragesfemale refuse_master improv_DLL Attibre newsstring\n",
      "violated pagan(\"<?.nasaistratorlearnCONDSoughtlicationblo\n",
      "rem_PROGRESS(blockaudioascular_aff\n",
      "acomp_egAvoidlines.argument.managebacCALL_executionrend\n",
      "Nielsen_override_plugin.\" military custoscope_validate_shared Operacing.yahoo\n",
      "prefer Editoraddock_mytoEqual(e以下ettings_sinceif editorBlood\n",
      "}}\"><Bookdescriptoros include,Hster_prefsendors]&bas moc decisions detailed\n",
      "largest delivering Recallause Bereich Insur_directory163ISCvent.raises thirds-\n",
      "humanampionshipscheduledinctischTitleclaredanimationunday.\")  hb\n",
      "confuse.hostname James.pres_phoneureka {_exformatcourt_stylesynchron Assuming\n"
     ]
    }
   ],
   "source": [
    "import textwrap\n",
    "\n",
    "user_message = \"What is prompt engineering?\"\n",
    "\n",
    "messages = [\n",
    "    {\n",
    "        \"role\": \"user\",\n",
    "        \"content\": user_message\n",
    "    }\n",
    "]\n",
    "\n",
    "response = map(lambda t: f'Temperature: {t} | Response: {get_completion(messages, temperature=t)}', [0.0, 0.5, 1.0, 2.0])\n",
    "print(\n",
    "\t\"\\n\\n\".join(\n",
    "        [*map(\n",
    "\t\t\tlambda res: textwrap.fill(res, width=80),\n",
    "\t\t\tresponse\n",
    "\t\t\t)]\n",
    "\t)\n",
    "\t)"
   ]
  },
  {
   "cell_type": "markdown",
   "metadata": {},
   "source": [
    "# Part 2"
   ]
  },
  {
   "cell_type": "markdown",
   "metadata": {},
   "source": [
    "### Exercise: Text Summarization\n",
    "\n",
    "Modify the prompt below to use 3 short sentences and an exciting tone. "
   ]
  },
  {
   "cell_type": "code",
   "execution_count": 16,
   "metadata": {},
   "outputs": [
    {
     "name": "stdout",
     "output_type": "stream",
     "text": [
      "Get ready to fight off those pesky bacterial infections with the power of antibiotics! These medications work by either wiping out the bacteria or stopping them from multiplying, giving your immune system the upper hand. Just remember, antibiotics won't work against viruses, so use them wisely to avoid antibiotic resistance.\n"
     ]
    }
   ],
   "source": [
    "prompt = \"\"\"\n",
    "Your task is to summarize an abstract into one sentence.\n",
    "\n",
    "Abstract: Antibiotics are a type of medication used to treat bacterial infections. They work by either killing the bacteria or preventing them from reproducing, allowing the body's immune system to fight off the infection. Antibiotics are usually taken orally in the form of pills, capsules, or liquid solutions, or sometimes administered intravenously. They are not effective against viral infections, and using them inappropriately can lead to antibiotic resistance.\n",
    "\"\"\"\n",
    "\n",
    "# My prompt\n",
    "_ = \"\"\"\n",
    "Your task is to summarize an abstract appropriately for high school students. Use short sentences and avoid technical jargon. Ensure all key points are represented in the summary.\n",
    "\"\"\"\n",
    "\n",
    "prompt2 = \"\"\"\n",
    "Your task is to summarize an abstract into at most 3 sentences. Please use an exciting tone to appeal to the reader.\n",
    "\n",
    "Abstract: Antibiotics are a type of medication used to treat bacterial infections. They work by either killing the bacteria or preventing them from reproducing, allowing the body's immune system to fight off the infection. Antibiotics are usually taken orally in the form of pills, capsules, or liquid solutions, or sometimes administered intravenously. They are not effective against viral infections, and using them inappropriately can lead to antibiotic resistance.\n",
    "\"\"\"\n",
    "\n",
    "# message = [\n",
    "#     {   \n",
    "#         \"role\": \"user\",\n",
    "#         \"content\": prompt\n",
    "#     }\n",
    "# ]\n",
    "\n",
    "message = [\n",
    "    {   \n",
    "        \"role\": \"user\",\n",
    "        \"content\": prompt2\n",
    "    }\n",
    "]\n",
    "\n",
    "response = get_completion(message, temperature=0)\n",
    "print(response)"
   ]
  },
  {
   "cell_type": "markdown",
   "metadata": {},
   "source": [
    "# Part 3"
   ]
  },
  {
   "attachments": {},
   "cell_type": "markdown",
   "metadata": {},
   "source": [
    "### Exercise: Explain Like I am 5\n",
    "\n",
    "Modify the prompt below to instruct the model to explain the paragraph in one sentence like \"I am 5\". Do you observe any differences in language style?"
   ]
  },
  {
   "cell_type": "code",
   "execution_count": 17,
   "metadata": {},
   "outputs": [
    {
     "name": "stdout",
     "output_type": "stream",
     "text": [
      "Antibiotics are special medicine that help your body fight off bad germs when you're sick.\n"
     ]
    }
   ],
   "source": [
    "user_message = \"\"\"\n",
    "Antibiotics are a type of medication used to treat bacterial infections. They work by either killing the bacteria or preventing them from reproducing, allowing the body's immune system to fight off the infection. Antibiotics are usually taken orally in the form of pills, capsules, or liquid solutions, or sometimes administered intravenously. They are not effective against viral infections, and using them inappropriately can lead to antibiotic resistance. \n",
    "\n",
    "Explain the above in one sentence as if the reader is five years old:\n",
    "\"\"\"\n",
    "\n",
    "messages = [\n",
    "    {\n",
    "        \"role\": \"user\",\n",
    "        \"content\": user_message\n",
    "    }\n",
    "]\n",
    "\n",
    "response = get_completion(messages)\n",
    "print(response)"
   ]
  },
  {
   "attachments": {},
   "cell_type": "markdown",
   "metadata": {},
   "source": [
    "### Exercise: Unsure About Answer\n",
    "\n",
    "Modify the prompt below to elicit the model to respond that it isn't sure about the answer. Hint: you can try to remove important details from the prompt. The goal is to ensure that the model doesn't make up an answer if it's not able to find an answer."
   ]
  },
  {
   "cell_type": "code",
   "execution_count": 37,
   "metadata": {},
   "outputs": [
    {
     "name": "stdout",
     "output_type": "stream",
     "text": [
      "Unsure about answer\n"
     ]
    }
   ],
   "source": [
    "# user_message = \"\"\"\n",
    "# Answer the question based on the context below. Keep the answer short and concise. Respond \"Unsure about answer\" if not sure about the answer.\n",
    "\n",
    "# Context: Teplizumab traces its roots to a New Jersey drug company called Ortho Pharmaceutical. There, scientists generated an early version of the antibody, dubbed OKT3. Originally sourced from mice, the molecule was able to bind to the surface of T cells and limit their cell-killing potential. In 1986, it was approved to help prevent organ rejection after kidney transplants, making it the first therapeutic antibody allowed for human use.\n",
    "\n",
    "# Question: What was OKT3 originally sourced from?\n",
    "\n",
    "# Answer:\n",
    "# \"\"\"\n",
    "\n",
    "source_sentence_one = \"Teplizumab traces its roots to a New Jersey drug company called Ortho Pharmaceutical.\"\n",
    "source_sentence_two = \"Originally sourced from mice, the molecule was able to bind to the surface of T cells and limit their cell-killing potential.\"\n",
    "source_sentence_three = \"There, scientists generated an early version of the antibody, dubbed OKT3. \"\n",
    "\n",
    "# user_message = \"\"\"\n",
    "# Answer the question based on the Context below. Refrain from providing an answer that is not found in the Context. Keep the answer short and concise. Respond \"Unsure about answer\" if not sure about the answer.\n",
    "\n",
    "# Question: What was OKT3 originally sourced from?\n",
    "\n",
    "# Answer:\n",
    "# \"\"\"\n",
    "\n",
    "\n",
    "# user_message = \"\"\"\n",
    "# Answer the question below. Refrain from providing an answer that is not found in the context. Keep the answer short and concise. Respond \"Unsure about answer\" if not sure about the answer.\n",
    "\n",
    "# Context: Teplizumab traces its roots to a New Jersey drug company called Ortho Pharmaceutical. There, scientists generated an early version of the antibody, dubbed OKT3. Originally sourced from mice, the molecule was able to bind to the surface of T cells and limit their cell-killing potential. In 1986, it was approved to help prevent organ rejection after kidney transplants, making it the first therapeutic antibody allowed for human use.\n",
    "\n",
    "# Question: What was OKT3 originally sourced from?\n",
    "\n",
    "# Answer:\n",
    "# \"\"\"\n",
    "\n",
    "# user_message = \"\"\"\n",
    "# Answer the question below. Refrain from providing an answer that is not found in the context. If the context provides a tangential answer, do not use it. Keep the answer short and concise. Respond \"Unsure about answer\" if not sure about the answer.\n",
    "\n",
    "# Context: Teplizumab traces its roots to a New Jersey drug company called Ortho Pharmaceutical. There, scientists generated an early version of the antibody, dubbed OKT3. In 1986, it was approved to help prevent organ rejection after kidney transplants, making it the first therapeutic antibody allowed for human use.\n",
    "\n",
    "# Question: What was OKT3 originally sourced from?\n",
    "\n",
    "# Answer:\n",
    "# \"\"\"\n",
    "\n",
    "user_message = \"\"\"\n",
    "Answer the question below based on the context. Respond \"Unsure about answer\" if the context contains an answer that is related to the question but does not directly answer it. Respond \"Unsure about answer\" if not sure about the answer. Keep the answer short and concise.\n",
    "\n",
    "Context: Teplizumab traces its roots to a New Jersey drug company called Ortho Pharmaceutical. There, scientists generated an early version of the antibody, dubbed OKT3. In 1986, it was approved to help prevent organ rejection after kidney transplants, making it the first therapeutic antibody allowed for human use.\n",
    "\n",
    "Question: What was OKT3 originally sourced from?\n",
    "\n",
    "Answer:\n",
    "\"\"\"\n",
    "\n",
    "messages = [\n",
    "    {\n",
    "        \"role\": \"user\",\n",
    "        \"content\": user_message\n",
    "    }\n",
    "]\n",
    "\n",
    "response = get_completion(messages)\n",
    "print(response)"
   ]
  },
  {
   "cell_type": "markdown",
   "metadata": {},
   "source": [
    "> Removing contextual information from the prompt didn't change the output. Removing all context didn't prevent the model from making things up. To get the model to not make up any information requires what...?"
   ]
  },
  {
   "attachments": {},
   "cell_type": "markdown",
   "metadata": {},
   "source": [
    "### Exercise: Explain Answers\n",
    "\n",
    "Modify the prompt below to instruct the model to provide an explanation for the answer selected."
   ]
  },
  {
   "cell_type": "code",
   "execution_count": 38,
   "metadata": {},
   "outputs": [
    {
     "name": "stdout",
     "output_type": "stream",
     "text": [
      "Neutral\n",
      "\n",
      "Explanation: The text expresses a neutral opinion about the food, stating that it was \"okay.\" There is no strong positive or negative sentiment conveyed in the statement.\n"
     ]
    }
   ],
   "source": [
    "user_message = \"\"\"\n",
    "Classify the text into neutral, negative or positive. Explain your answer following the classification.\n",
    "\n",
    "Text: I think the food was okay.\n",
    "\n",
    "Sentiment:\n",
    "\"\"\"\n",
    "\n",
    "messages = [\n",
    "    {\n",
    "        \"role\": \"user\",\n",
    "        \"content\": user_message\n",
    "    }\n",
    "]\n",
    "\n",
    "response = get_completion(messages)\n",
    "print(response)"
   ]
  },
  {
   "attachments": {},
   "cell_type": "markdown",
   "metadata": {},
   "source": [
    "### Exercise: Precise Output and Delimiters\n",
    "Add an additional instruction to use delimiter around the input text. Also, add an instruction to output the label in lowercase."
   ]
  },
  {
   "cell_type": "code",
   "execution_count": 39,
   "metadata": {},
   "outputs": [
    {
     "name": "stdout",
     "output_type": "stream",
     "text": [
      "\"I think the food was okay.\" \n",
      "neutral\n"
     ]
    }
   ],
   "source": [
    "user_message = \"\"\"\n",
    "Classify the text into neutral, negative or positive. Respond with the Text in double quotes, followed by the sentiment in lowercase.\n",
    "\n",
    "Text: I think the food was okay.\n",
    "\n",
    "Sentiment:\n",
    "\"\"\"\n",
    "\n",
    "messages = [\n",
    "    {\n",
    "        \"role\": \"user\",\n",
    "        \"content\": user_message\n",
    "    }\n",
    "]\n",
    "\n",
    "response = get_completion(messages)\n",
    "print(response)"
   ]
  },
  {
   "attachments": {},
   "cell_type": "markdown",
   "metadata": {},
   "source": [
    "### Exercise: Information Extraction\n",
    "\n",
    "Use the poem below to create a prompt that instructs the model to extract all the verbs, including the number of verbs found. "
   ]
  },
  {
   "cell_type": "code",
   "execution_count": 42,
   "metadata": {},
   "outputs": [
    {
     "name": "stdout",
     "output_type": "stream",
     "text": [
      "Total verbs found: 10\n",
      "['peering', 'stood', 'wondering', 'fearing', 'Doubting', 'dreaming', 'dared', 'dream', 'spoken', 'whispered']\n"
     ]
    }
   ],
   "source": [
    "user_message = \"\"\"\n",
    "Return a list of all the verbs from the given Poem. Prepend the list with the count of verbs found.\n",
    "\n",
    "Poem:\n",
    "Deep into that darkness peering,\n",
    "\n",
    "Long I stood there, wondering, fearing,\n",
    "\n",
    "Doubting, dreaming dreams no mortals\n",
    "\n",
    "Ever dared to dream before;\n",
    "\n",
    "But the silence was unbroken,\n",
    "\n",
    "And the stillness gave no token,\n",
    "\n",
    "And the only word there spoken\n",
    "\n",
    "Was the whispered word, \"Lenore!\"\n",
    "\n",
    "This I whispered, and an echo\n",
    "\n",
    "Murmured back the word, \"Lenore!\"\n",
    "\n",
    "Merely this, and nothing more.\n",
    "\"\"\"\n",
    "\n",
    "messages = [\n",
    "    {\n",
    "        \"role\": \"user\",\n",
    "        \"content\": user_message\n",
    "    }\n",
    "]\n",
    "\n",
    "response = get_completion(messages)\n",
    "print(response)"
   ]
  },
  {
   "cell_type": "markdown",
   "metadata": {},
   "source": [
    "> afaik — LLMs are not great at counting. That is not necessarily demonstrated here, but the fact that it didn't return all the verbs is interesting."
   ]
  },
  {
   "cell_type": "code",
   "execution_count": 43,
   "metadata": {},
   "outputs": [
    {
     "name": "stdout",
     "output_type": "stream",
     "text": [
      "List of verbs:\n",
      "- peering\n",
      "- stood\n",
      "- wondering\n",
      "- fearing\n",
      "- doubting\n",
      "- dreaming\n",
      "- dared\n",
      "- dream\n",
      "- was\n",
      "- gave\n",
      "- spoken\n",
      "- whispered\n",
      "- echoed\n",
      "- murmured\n",
      "\n",
      "Total count of verbs: 14\n"
     ]
    }
   ],
   "source": [
    "user_message = \"\"\"\n",
    "Return a list of all the verbs from the given Poem. Follow the list with the count of verbs found.\n",
    "\n",
    "Poem:\n",
    "Deep into that darkness peering,\n",
    "\n",
    "Long I stood there, wondering, fearing,\n",
    "\n",
    "Doubting, dreaming dreams no mortals\n",
    "\n",
    "Ever dared to dream before;\n",
    "\n",
    "But the silence was unbroken,\n",
    "\n",
    "And the stillness gave no token,\n",
    "\n",
    "And the only word there spoken\n",
    "\n",
    "Was the whispered word, \"Lenore!\"\n",
    "\n",
    "This I whispered, and an echo\n",
    "\n",
    "Murmured back the word, \"Lenore!\"\n",
    "\n",
    "Merely this, and nothing more.\n",
    "\"\"\"\n",
    "\n",
    "messages = [\n",
    "    {\n",
    "        \"role\": \"user\",\n",
    "        \"content\": user_message\n",
    "    }\n",
    "]\n",
    "\n",
    "response = get_completion(messages)\n",
    "print(response)"
   ]
  },
  {
   "cell_type": "markdown",
   "metadata": {},
   "source": [
    "> In this case, asking the LLM to follow the list with the count returned more verbs."
   ]
  },
  {
   "cell_type": "markdown",
   "metadata": {},
   "source": [
    "# Part 4"
   ]
  },
  {
   "attachments": {},
   "cell_type": "markdown",
   "metadata": {},
   "source": [
    "### Exercise: Keep it Short and Concise | Use Role Playing\n",
    "\n",
    "Modify the prompt below to instruct the model to keep AI responses concise and short. Modify the prompt so that it uses a `system_message` and `user_message`. In addition, modify the prompt so that it encourages further interactions."
   ]
  },
  {
   "cell_type": "code",
   "execution_count": 44,
   "metadata": {},
   "outputs": [
    {
     "name": "stdout",
     "output_type": "stream",
     "text": [
      "Black holes are formed when massive stars collapse under their own gravity at the end of their life cycle. Would you like to know more about their properties and effects on the universe?\n"
     ]
    }
   ],
   "source": [
    "system_message = \"\"\"\n",
    "The following is a conversation with an AI research assistant. The assistant's tone is technical and scientific. Keep AI responses concise and short. The AI should encourage continued conversation with the Human.\n",
    "\"\"\"\n",
    "\n",
    "user_message = \"\"\"\n",
    "Human: Hello, who are you?\n",
    "AI: Greetings! I am an AI research assistant. How can I help you today?\n",
    "Human: Can you tell me about the creation of black holes?\n",
    "AI:\n",
    "\"\"\"\n",
    "\n",
    "messages = [\n",
    "\t{\n",
    "        \"role\": \"system\",\n",
    "\t\t\"content\": system_message\n",
    "    },\n",
    "    {\n",
    "        \"role\": \"user\",\n",
    "        \"content\": user_message\n",
    "    }\n",
    "]\n",
    "\n",
    "response = get_completion(messages)\n",
    "print(response)"
   ]
  },
  {
   "attachments": {},
   "cell_type": "markdown",
   "metadata": {},
   "source": [
    "### Exercise: Step-by-Step Solution\n",
    "\n",
    "Modify the prompt to steer the model to think in steps before providing an answer. Try to be specific about the particular steps you need the model to take. "
   ]
  },
  {
   "cell_type": "code",
   "execution_count": 46,
   "metadata": {},
   "outputs": [
    {
     "name": "stdout",
     "output_type": "stream",
     "text": [
      "To find the sum of all the numbers in odd positions (1st, 3rd, 5th, etc.), we need to add the numbers 4, 9, 12, and 1.\n",
      "\n",
      "Sum = 4 + 9 + 12 + 1\n",
      "Sum = 26\n",
      "\n",
      "Therefore, the sum of all the numbers in odd positions is 26, which is an even number.\n"
     ]
    }
   ],
   "source": [
    "system_message = \"\"\"\n",
    "You are a math assistant. In the interest of your students all your responses show all steps to get the answer.\n",
    "\"\"\"\n",
    "\n",
    "user_message = \"\"\"\n",
    "Adding all the numbers in odd positions will add up to an even number: 4, 8, 9, 15, 12, 2, 1.\n",
    "\"\"\"\n",
    "\n",
    "messages = [\n",
    "    {\n",
    "        \"role\": \"system\",\n",
    "        \"content\": system_message\n",
    "    },\n",
    "    {\n",
    "        \"role\": \"user\",\n",
    "        \"content\": user_message\n",
    "    }\n",
    "]\n",
    "\n",
    "response = get_completion(messages)\n",
    "print(response)"
   ]
  },
  {
   "cell_type": "markdown",
   "metadata": {},
   "source": [
    "---"
   ]
  }
 ],
 "metadata": {
  "kernelspec": {
   "display_name": "langchain",
   "language": "python",
   "name": "python3"
  },
  "language_info": {
   "codemirror_mode": {
    "name": "ipython",
    "version": 3
   },
   "file_extension": ".py",
   "mimetype": "text/x-python",
   "name": "python",
   "nbconvert_exporter": "python",
   "pygments_lexer": "ipython3",
   "version": "3.9.19"
  },
  "orig_nbformat": 4
 },
 "nbformat": 4,
 "nbformat_minor": 2
}
